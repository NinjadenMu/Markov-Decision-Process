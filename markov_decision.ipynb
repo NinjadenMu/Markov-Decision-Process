{
 "cells": [
  {
   "cell_type": "code",
   "execution_count": 4,
   "metadata": {},
   "outputs": [
    {
     "data": {
      "image/png": "[encoded data removed]",
      "text/plain": [
       "<Figure size 432x288 with 1 Axes>"
      ]
     },
     "metadata": {},
     "output_type": "display_data"
    }
   ],
   "source": [
    "import numpy as np\n",
    "import pylab as plt\n",
    "import networkx as nx\n",
    "points_list = [(0,1), (1,5), (5,6), (5,4), (1,2), (2,3), (2,7)]\n",
    "goal = 7\n",
    "state = 0\n",
    "gamma = 0.8\n",
    "graph = nx.Graph()\n",
    "graph.add_edges_from(points_list)\n",
    "pos = nx.spring_layout(graph)\n",
    "nx.draw_networkx_nodes(graph, pos)\n",
    "nx.draw_networkx_edges(graph, pos)\n",
    "nx.draw_networkx_labels(graph,pos)\n",
    "plt.show()"
   ]
  },
  {
   "cell_type": "code",
   "execution_count": 5,
   "metadata": {},
   "outputs": [
    {
     "name": "stdout",
     "output_type": "stream",
     "text": [
      "[[ -1.   0.  -1.  -1.  -1.  -1.  -1.  -1.]\n",
      " [  0.  -1.   0.  -1.  -1.   0.  -1.  -1.]\n",
      " [ -1.   0.  -1.   0.  -1.  -1.  -1. 100.]\n",
      " [ -1.  -1.   0.  -1.  -1.  -1.  -1.  -1.]\n",
      " [ -1.  -1.  -1.  -1.  -1.   0.  -1.  -1.]\n",
      " [ -1.   0.  -1.  -1.   0.  -1.   0.  -1.]\n",
      " [ -1.  -1.  -1.  -1.  -1.   0.  -1.  -1.]\n",
      " [ -1.  -1.   0.  -1.  -1.  -1.  -1. 100.]]\n"
     ]
    }
   ],
   "source": [
    "states = np.matrix(np.ones(shape=(8, 8)))\n",
    "states *= -1\n",
    "for point in points_list:\n",
    "    if point[1] == goal:\n",
    "        states[point] = 100\n",
    "    else:\n",
    "        states[point] = 0\n",
    "    if point[0] != goal:\n",
    "        states[point[::-1]] = 0\n",
    "    states[7, 7] = 100\n",
    "print(states)"
   ]
  },
  {
   "cell_type": "code",
   "execution_count": 6,
   "metadata": {},
   "outputs": [],
   "source": [
    "q_values = np.matrix(np.zeros([8, 8]))\n",
    "\n",
    "def legal_actions(state):\n",
    "    current_state = states[state,]\n",
    "    return np.where(current_state >= 0)[1]\n",
    "\n",
    "possible_actions = legal_actions(0)\n",
    "\n",
    "def choose_action(p_actions):\n",
    "    return int(np.random.choice(possible_actions))\n",
    "\n",
    "action = choose_action(possible_actions)\n",
    "\n",
    "def calc_q_values(state, action, gamma):\n",
    "    q_values[state, action] = states[state, action] + gamma * np.max(q_values[action,])\n",
    "    \n",
    "\n",
    "\n",
    "\n",
    "    \n",
    "    \n",
    "    \n",
    "\n"
   ]
  },
  {
   "cell_type": "code",
   "execution_count": 7,
   "metadata": {},
   "outputs": [
    {
     "name": "stdout",
     "output_type": "stream",
     "text": [
      "[[  0.    64.     0.     0.     0.     0.     0.     0.  ]\n",
      " [ 51.2    0.    80.     0.     0.    51.2    0.     0.  ]\n",
      " [  0.    64.     0.    64.     0.     0.     0.   100.  ]\n",
      " [  0.     0.    80.     0.     0.     0.     0.     0.  ]\n",
      " [  0.     0.     0.     0.     0.    51.2    0.     0.  ]\n",
      " [  0.    64.     0.     0.    40.96   0.    40.96   0.  ]\n",
      " [  0.     0.     0.     0.     0.    51.2    0.     0.  ]\n",
      " [  0.     0.     0.     0.     0.     0.     0.     0.  ]]\n"
     ]
    }
   ],
   "source": [
    "for i in range(10000):\n",
    "    state = np.random.randint(0, 7)\n",
    "    possible_actions = legal_actions(state)\n",
    "    action = choose_action(possible_actions)\n",
    "    calc_q_values(state, action, gamma)\n",
    "\n",
    "print(q_values)\n",
    "\n"
   ]
  },
  {
   "cell_type": "code",
   "execution_count": 8,
   "metadata": {},
   "outputs": [
    {
     "name": "stdout",
     "output_type": "stream",
     "text": [
      "Most efficient path:\n",
      "[6, 5, 1, 2, 7]\n"
     ]
    }
   ],
   "source": [
    "current_state = 6\n",
    "steps = [current_state]\n",
    "\n",
    "while current_state != 7:\n",
    "\n",
    "    next_step_index = np.where(q_values[current_state,] == np.max(q_values[current_state,]))[1]\n",
    "    \n",
    "    if next_step_index.shape[0] > 1:\n",
    "        next_step_index = int(np.random.choice(next_step_index, size = 1))\n",
    "    else:\n",
    "        next_step_index = int(next_step_index)\n",
    "    \n",
    "    steps.append(next_step_index)\n",
    "    current_state = next_step_index\n",
    "\n",
    "print(\"Most efficient path:\")\n",
    "print(steps)"
   ]
  },
  {
   "cell_type": "code",
   "execution_count": null,
   "metadata": {},
   "outputs": [],
   "source": []
  }
 ],
 "metadata": {
  "kernelspec": {
   "display_name": "Python 3",
   "language": "python",
   "name": "python3"
  },
  "language_info": {
   "codemirror_mode": {
    "name": "ipython",
    "version": 3
   },
   "file_extension": ".py",
   "mimetype": "text/x-python",
   "name": "python",
   "nbconvert_exporter": "python",
   "pygments_lexer": "ipython3",
   "version": "3.7.6"
  }
 },
 "nbformat": 4,
 "nbformat_minor": 4
}
